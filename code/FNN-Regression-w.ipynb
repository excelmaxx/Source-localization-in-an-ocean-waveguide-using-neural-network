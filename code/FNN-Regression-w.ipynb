{
 "cells": [
  {
   "cell_type": "code",
   "execution_count": 107,
   "metadata": {
    "collapsed": false
   },
   "outputs": [],
   "source": [
    "import numpy as np\n",
    "import matplotlib.pyplot as plt\n",
    "from sklearn import svm\n",
    "\n",
    "set_name = 'DataSet01_950Hz_snap=5'\n",
    "# Training Data\n",
    "X_train = np.loadtxt( './data/' + set_name + '/SBCEx16_training_input.txt')\n",
    "Y_train = np.loadtxt( './data/'+ set_name + '/training_labels.txt')\n",
    "Range_train = np.loadtxt( './data/'+ set_name  + '/Mapping_range_labels.txt')\n",
    "\n",
    "# Test Data\n",
    "X_test = np.loadtxt( './data/'+ set_name + '/SBCEx16_test_input.txt')\n",
    "Y_test = np.loadtxt( './data/'+ set_name + '/test_Ranges.txt')"
   ]
  },
  {
   "cell_type": "code",
   "execution_count": 108,
   "metadata": {
    "collapsed": true
   },
   "outputs": [],
   "source": [
    "Y_train2 = np.loadtxt( './data/'+ set_name + '/training_Ranges.txt')"
   ]
  },
  {
   "cell_type": "code",
   "execution_count": 109,
   "metadata": {
    "collapsed": true
   },
   "outputs": [],
   "source": [
    "import math"
   ]
  },
  {
   "cell_type": "markdown",
   "metadata": {},
   "source": [
    "##### MAPE function"
   ]
  },
  {
   "cell_type": "code",
   "execution_count": 110,
   "metadata": {
    "collapsed": false
   },
   "outputs": [],
   "source": [
    "def MAPE(pred, y):\n",
    "    # the pred here should be Z_out\n",
    "    # the y should be y_test\n",
    "    n = len(y)\n",
    "    return sum(np.abs(pred - y) / y) / n"
   ]
  },
  {
   "cell_type": "markdown",
   "metadata": {},
   "source": [
    "### feature selection"
   ]
  },
  {
   "cell_type": "code",
   "execution_count": 111,
   "metadata": {
    "collapsed": false
   },
   "outputs": [],
   "source": [
    "from sklearn.ensemble import ExtraTreesClassifier\n",
    "from sklearn.feature_selection import SelectFromModel"
   ]
  },
  {
   "cell_type": "code",
   "execution_count": 112,
   "metadata": {
    "collapsed": false
   },
   "outputs": [],
   "source": [
    "clf = ExtraTreesClassifier()\n",
    "clf = clf.fit(X_train, Y_train)\n",
    "model = SelectFromModel(clf, prefit=True)"
   ]
  },
  {
   "cell_type": "code",
   "execution_count": 113,
   "metadata": {
    "collapsed": false
   },
   "outputs": [],
   "source": [
    "X_train2 = model.transform(X_train)\n",
    "X_test2 = model.transform(X_test)"
   ]
  },
  {
   "cell_type": "code",
   "execution_count": 114,
   "metadata": {
    "collapsed": false
   },
   "outputs": [
    {
     "data": {
      "text/plain": [
       "(890, 132)"
      ]
     },
     "execution_count": 114,
     "metadata": {},
     "output_type": "execute_result"
    }
   ],
   "source": [
    "X_train2.shape"
   ]
  },
  {
   "cell_type": "markdown",
   "metadata": {},
   "source": [
    "### FNN"
   ]
  },
  {
   "cell_type": "code",
   "execution_count": 115,
   "metadata": {
    "collapsed": true
   },
   "outputs": [],
   "source": [
    "import tensorflow as tf"
   ]
  },
  {
   "cell_type": "markdown",
   "metadata": {},
   "source": [
    "##### data preprocessing - use the range as y"
   ]
  },
  {
   "cell_type": "code",
   "execution_count": 116,
   "metadata": {
    "collapsed": false
   },
   "outputs": [],
   "source": [
    "y_train = np.matrix(Y_train2).T"
   ]
  },
  {
   "cell_type": "code",
   "execution_count": 117,
   "metadata": {
    "collapsed": false
   },
   "outputs": [
    {
     "name": "stdout",
     "output_type": "stream",
     "text": [
      "(890, 1)\n"
     ]
    }
   ],
   "source": [
    "print y_train.shape"
   ]
  },
  {
   "cell_type": "code",
   "execution_count": 118,
   "metadata": {
    "collapsed": true
   },
   "outputs": [],
   "source": [
    "def init_weights(shape):\n",
    "    \"\"\" Weight initialization \"\"\"\n",
    "    weights = tf.random_normal(shape, stddev=0.1)\n",
    "    return tf.Variable(weights)"
   ]
  },
  {
   "cell_type": "code",
   "execution_count": 119,
   "metadata": {
    "collapsed": true
   },
   "outputs": [],
   "source": [
    "def forwardprop(X, w_1, w_2):\n",
    "    \"\"\"\n",
    "    Forward-propagation.\n",
    "    IMPORTANT: yhat is not softmax since TensorFlow's softmax_cross_entropy_with_logits() does that internally.\n",
    "    \"\"\"\n",
    "    h    = tf.nn.sigmoid(tf.matmul(X, w_1))  # The \\sigma function\n",
    "    yhat = tf.matmul(h, w_2)  # The \\varphi function\n",
    "    return yhat"
   ]
  },
  {
   "cell_type": "markdown",
   "metadata": {},
   "source": [
    "#### Parameters for the model"
   ]
  },
  {
   "cell_type": "code",
   "execution_count": 120,
   "metadata": {
    "collapsed": false
   },
   "outputs": [],
   "source": [
    "n_in = X_train2.shape[1]\n",
    "n_h1 = 512\n",
    "n_cls = y_train.shape[1]\n",
    "\n",
    "x = tf.placeholder(tf.float32, [None, n_in])\n",
    "y = tf.placeholder(tf.float32, [None, n_cls])"
   ]
  },
  {
   "cell_type": "code",
   "execution_count": 121,
   "metadata": {
    "collapsed": true
   },
   "outputs": [],
   "source": [
    "def nn_model1(data, beta):\n",
    "    W1 = init_weights((n_in, n_h1))\n",
    "    b1 = tf.Variable(tf.zeros([n_h1]))\n",
    "\n",
    "    Wout = init_weights((n_h1, n_cls))\n",
    "    bout = tf.Variable(tf.zeros([n_cls]))\n",
    "    \n",
    "    l1 = tf.matmul(data, W1) + b1\n",
    "    l1 = tf.nn.relu(l1)\n",
    "    \n",
    "    pred = tf.matmul(l1, Wout) + bout\n",
    "    \n",
    "    reg = beta*tf.nn.l2_loss(W1) + \\\n",
    "        beta*tf.nn.l2_loss(b1) + \\\n",
    "        beta*tf.nn.l2_loss(Wout) + \\\n",
    "        beta*tf.nn.l2_loss(bout)\n",
    "    return pred, reg"
   ]
  },
  {
   "cell_type": "markdown",
   "metadata": {},
   "source": [
    "#### Parameters for the Training"
   ]
  },
  {
   "cell_type": "code",
   "execution_count": 126,
   "metadata": {
    "collapsed": true
   },
   "outputs": [],
   "source": [
    "batch_size = 200\n",
    "n_eps = 1000\n",
    "disp_step = 10\n",
    "learning_rate = 0.02\n",
    "beta = 0.001"
   ]
  },
  {
   "cell_type": "code",
   "execution_count": 127,
   "metadata": {
    "collapsed": true
   },
   "outputs": [],
   "source": [
    "def train_nn1(data):\n",
    "    pred, reg = nn_model1(data, beta)\n",
    "    #cost = -tf.reduce_sum(y*tf.log(tf.clip_by_value(pred,1e-11,1.0)))\n",
    "    cost = tf.reduce_sum(tf.pow(pred - y, 2) + reg)\n",
    "    \n",
    "    optimizer = tf.train.AdamOptimizer(learning_rate).minimize(cost)\n",
    "    \n",
    "    # Test model\n",
    "    correct_prediction = tf.equal(tf.argmax(pred, 1), tf.argmax(y, 1))\n",
    "    # Calculate accuracy\n",
    "    accuracy = tf.reduce_mean(tf.cast(correct_prediction, tf.float32))\n",
    "    \n",
    "    epochs = n_eps\n",
    "    \n",
    "    with tf.Session() as sess:\n",
    "        tf.global_variables_initializer().run()\n",
    "        #prev_loss = None\n",
    "        \n",
    "        for epoch in range(epochs):\n",
    "            avg_cost = 0\n",
    "            total_batch = int(X_train2.shape[0] / batch_size)\n",
    "            \n",
    "            # Training\n",
    "            for i in range(total_batch):\n",
    "                xb = X_train2[i * batch_size : (i + 1) * batch_size]\n",
    "                yb = y_train[i * batch_size : (i + 1) * batch_size]\n",
    "                _, c = sess.run([optimizer, cost], feed_dict = {x: xb, y: yb})\n",
    "                avg_cost += c / total_batch\n",
    "            \n",
    "            if (epoch+1) % disp_step == 0:\n",
    "                print(\"Epoch:\", '%04d' % (epoch+1), \"cost=\", \"{:.9f}\".format(avg_cost))\n",
    "            if math.isnan(avg_cost):\n",
    "                break\n",
    "            #prev_loss = loss\n",
    "        print 'training finished!'\n",
    "        predictions = sess.run(pred, feed_dict = {x: X_test2})\n",
    "            \n",
    "        \n",
    "        print(\"accuarcy(train) =\",sess.run(accuracy, feed_dict={x:X_train2, y: y_train}))\n",
    "    return predictions\n",
    "    \n",
    "        #correct = tf.equal(tf.argmax(pred,1), tf.argmax(y,1))\n",
    "        #accuracy = tf.reduce_mean(tf.cast(correct, tf.float32))\n",
    "        #print(sess.run(accuracy, feed_dict = \\\n",
    "        #               {x: mnist.test.images, y: mnist.test.labels}))"
   ]
  },
  {
   "cell_type": "code",
   "execution_count": 128,
   "metadata": {
    "collapsed": false
   },
   "outputs": [
    {
     "name": "stdout",
     "output_type": "stream",
     "text": [
      "('Epoch:', '0010', 'cost=', '124438187.750000000')\n",
      "('Epoch:', '0020', 'cost=', '53204024.000000000')\n",
      "('Epoch:', '0030', 'cost=', '43385274.000000000')\n",
      "('Epoch:', '0040', 'cost=', '38845464.500000000')\n",
      "('Epoch:', '0050', 'cost=', '35036922.000000000')\n",
      "('Epoch:', '0060', 'cost=', '31394173.000000000')\n",
      "('Epoch:', '0070', 'cost=', '27896006.500000000')\n",
      "('Epoch:', '0080', 'cost=', '24650489.500000000')\n",
      "('Epoch:', '0090', 'cost=', '21689470.750000000')\n",
      "('Epoch:', '0100', 'cost=', '19019327.500000000')\n",
      "('Epoch:', '0110', 'cost=', '16636991.000000000')\n",
      "('Epoch:', '0120', 'cost=', '14556614.250000000')\n",
      "('Epoch:', '0130', 'cost=', '12766555.750000000')\n",
      "('Epoch:', '0140', 'cost=', '11222684.250000000')\n",
      "('Epoch:', '0150', 'cost=', '9887831.375000000')\n",
      "('Epoch:', '0160', 'cost=', '8723513.750000000')\n",
      "('Epoch:', '0170', 'cost=', '7702446.750000000')\n",
      "('Epoch:', '0180', 'cost=', '6818646.625000000')\n",
      "('Epoch:', '0190', 'cost=', '6053189.562500000')\n",
      "('Epoch:', '0200', 'cost=', '5384926.187500000')\n",
      "('Epoch:', '0210', 'cost=', '4799275.000000000')\n",
      "('Epoch:', '0220', 'cost=', '4283706.625000000')\n",
      "('Epoch:', '0230', 'cost=', '3829078.187500000')\n",
      "('Epoch:', '0240', 'cost=', '3427374.187500000')\n",
      "('Epoch:', '0250', 'cost=', '3072191.062500000')\n",
      "('Epoch:', '0260', 'cost=', '2759520.937500000')\n",
      "('Epoch:', '0270', 'cost=', '2482609.687500000')\n",
      "('Epoch:', '0280', 'cost=', '2236937.468750000')\n",
      "('Epoch:', '0290', 'cost=', '2013772.812500000')\n",
      "('Epoch:', '0300', 'cost=', '1811505.156250000')\n",
      "('Epoch:', '0310', 'cost=', '1632571.671875000')\n",
      "('Epoch:', '0320', 'cost=', '1472540.031250000')\n",
      "('Epoch:', '0330', 'cost=', '1328265.406250000')\n",
      "('Epoch:', '0340', 'cost=', '1198219.171875000')\n",
      "('Epoch:', '0350', 'cost=', '1080806.937500000')\n",
      "('Epoch:', '0360', 'cost=', '972622.890625000')\n",
      "('Epoch:', '0370', 'cost=', '857123.812500000')\n",
      "('Epoch:', '0380', 'cost=', '745667.359375000')\n",
      "('Epoch:', '0390', 'cost=', '649140.132812500')\n",
      "('Epoch:', '0400', 'cost=', '567350.257812500')\n",
      "('Epoch:', '0410', 'cost=', '497400.695312500')\n",
      "('Epoch:', '0420', 'cost=', '436038.109375000')\n",
      "('Epoch:', '0430', 'cost=', '383474.742187500')\n",
      "('Epoch:', '0440', 'cost=', '338566.019531250')\n",
      "('Epoch:', '0450', 'cost=', '299900.093750000')\n",
      "('Epoch:', '0460', 'cost=', '266063.699218750')\n",
      "('Epoch:', '0470', 'cost=', '236767.968750000')\n",
      "('Epoch:', '0480', 'cost=', '210773.871093750')\n",
      "('Epoch:', '0490', 'cost=', '188193.328125000')\n",
      "('Epoch:', '0500', 'cost=', '168561.875000000')\n",
      "('Epoch:', '0510', 'cost=', '151000.935546875')\n",
      "('Epoch:', '0520', 'cost=', '135695.802734375')\n",
      "('Epoch:', '0530', 'cost=', '122355.427734375')\n",
      "('Epoch:', '0540', 'cost=', '110566.558593750')\n",
      "('Epoch:', '0550', 'cost=', '100267.154296875')\n",
      "('Epoch:', '0560', 'cost=', '90917.875000000')\n",
      "('Epoch:', '0570', 'cost=', '82697.095703125')\n",
      "('Epoch:', '0580', 'cost=', '75445.780273438')\n",
      "('Epoch:', '0590', 'cost=', '69100.415039062')\n",
      "('Epoch:', '0600', 'cost=', '63514.767578125')\n",
      "('Epoch:', '0610', 'cost=', '58590.719726562')\n",
      "('Epoch:', '0620', 'cost=', '54221.829101562')\n",
      "('Epoch:', '0630', 'cost=', '50378.012695312')\n",
      "('Epoch:', '0640', 'cost=', '46972.366210938')\n",
      "('Epoch:', '0650', 'cost=', '43864.610351562')\n",
      "('Epoch:', '0660', 'cost=', '41159.890625000')\n",
      "('Epoch:', '0670', 'cost=', '38780.358886719')\n",
      "('Epoch:', '0680', 'cost=', '36623.038085938')\n",
      "('Epoch:', '0690', 'cost=', '34745.720703125')\n",
      "('Epoch:', '0700', 'cost=', '33112.833496094')\n",
      "('Epoch:', '0710', 'cost=', '31636.972167969')\n",
      "('Epoch:', '0720', 'cost=', '30318.217285156')\n",
      "('Epoch:', '0730', 'cost=', '29164.390136719')\n",
      "('Epoch:', '0740', 'cost=', '28155.877441406')\n",
      "('Epoch:', '0750', 'cost=', '27261.223632812')\n",
      "('Epoch:', '0760', 'cost=', '26469.848632812')\n",
      "('Epoch:', '0770', 'cost=', '25771.942871094')\n",
      "('Epoch:', '0780', 'cost=', '25151.721191406')\n",
      "('Epoch:', '0790', 'cost=', '24602.023437500')\n",
      "('Epoch:', '0800', 'cost=', '24100.970703125')\n",
      "('Epoch:', '0810', 'cost=', '23667.230957031')\n",
      "('Epoch:', '0820', 'cost=', '23280.267578125')\n",
      "('Epoch:', '0830', 'cost=', '22932.629394531')\n",
      "('Epoch:', '0840', 'cost=', '22629.335937500')\n",
      "('Epoch:', '0850', 'cost=', '22359.410156250')\n",
      "('Epoch:', '0860', 'cost=', '22120.589355469')\n",
      "('Epoch:', '0870', 'cost=', '21908.686523438')\n",
      "('Epoch:', '0880', 'cost=', '21722.395507812')\n",
      "('Epoch:', '0890', 'cost=', '21559.053710938')\n",
      "('Epoch:', '0900', 'cost=', '21411.513183594')\n",
      "('Epoch:', '0910', 'cost=', '21282.426269531')\n",
      "('Epoch:', '0920', 'cost=', '21166.363769531')\n",
      "('Epoch:', '0930', 'cost=', '21065.493652344')\n",
      "('Epoch:', '0940', 'cost=', '20975.054199219')\n",
      "('Epoch:', '0950', 'cost=', '20893.780273438')\n",
      "('Epoch:', '0960', 'cost=', '20821.662597656')\n",
      "('Epoch:', '0970', 'cost=', '20757.806640625')\n",
      "('Epoch:', '0980', 'cost=', '20700.830078125')\n",
      "('Epoch:', '0990', 'cost=', '20649.000000000')\n",
      "('Epoch:', '1000', 'cost=', '20602.465332031')\n",
      "training finished!\n",
      "('accuarcy(train) =', 1.0)\n"
     ]
    }
   ],
   "source": [
    "pred1 = train_nn1(x)"
   ]
  },
  {
   "cell_type": "code",
   "execution_count": 20,
   "metadata": {
    "collapsed": false
   },
   "outputs": [
    {
     "data": {
      "image/png": "[encoded data removed]",
      "text/plain": [
       "<matplotlib.figure.Figure at 0x7f604256dd10>"
      ]
     },
     "metadata": {},
     "output_type": "display_data"
    },
    {
     "name": "stdout",
     "output_type": "stream",
     "text": [
      "0.426328383553\n"
     ]
    }
   ],
   "source": [
    "Z_out = pred1\n",
    "\n",
    "plt.plot(Z_out,\"o\",markersize=2,markeredgewidth=0.5,markeredgecolor='b',markerfacecolor='none')\n",
    "plt.plot(Y_test,'r',linewidth=1.0)\n",
    "\n",
    "plt.xlabel('Time [index]',fontsize=8)\n",
    "plt.ylabel('Range (m)',fontsize=8)\n",
    "plt.tick_params(axis='both', which='major', labelsize=8)\n",
    "plt.tick_params(axis='both', which='minor', labelsize=8)\n",
    "plt.title('Random Forest Classifier',fontsize=8)\n",
    "\n",
    "plt.show()\n",
    "print MAPE(np.array(Z_out[:, 0]), Y_test)"
   ]
  },
  {
   "cell_type": "code",
   "execution_count": null,
   "metadata": {
    "collapsed": true
   },
   "outputs": [],
   "source": []
  },
  {
   "cell_type": "code",
   "execution_count": 21,
   "metadata": {
    "collapsed": true
   },
   "outputs": [],
   "source": [
    "Z_out_10 = Z_out"
   ]
  },
  {
   "cell_type": "code",
   "execution_count": 129,
   "metadata": {
    "collapsed": false
   },
   "outputs": [
    {
     "data": {
      "image/png": "[encoded data removed]",
      "text/plain": [
       "<matplotlib.figure.Figure at 0x7f604d5d00d0>"
      ]
     },
     "metadata": {},
     "output_type": "display_data"
    },
    {
     "name": "stdout",
     "output_type": "stream",
     "text": [
      "0.857839364081\n"
     ]
    }
   ],
   "source": [
    "Z_out = pred1\n",
    "\n",
    "plt.plot(Z_out,\"o\",markersize=2,markeredgewidth=0.5,markeredgecolor='b',markerfacecolor='none')\n",
    "plt.plot(Y_test,'r',linewidth=1.0)\n",
    "\n",
    "plt.xlabel('Time [index]',fontsize=8)\n",
    "plt.ylabel('Range (m)',fontsize=8)\n",
    "plt.tick_params(axis='both', which='major', labelsize=8)\n",
    "plt.tick_params(axis='both', which='minor', labelsize=8)\n",
    "plt.title('Random Forest Classifier',fontsize=8)\n",
    "\n",
    "plt.show()\n",
    "print MAPE(np.array(Z_out[:, 0]), Y_test)"
   ]
  },
  {
   "cell_type": "code",
   "execution_count": 130,
   "metadata": {
    "collapsed": true
   },
   "outputs": [],
   "source": [
    "Z_out_950 = Z_out"
   ]
  },
  {
   "cell_type": "code",
   "execution_count": 106,
   "metadata": {
    "collapsed": false
   },
   "outputs": [
    {
     "data": {
      "image/png": "[encoded data removed]",
      "text/plain": [
       "<matplotlib.figure.Figure at 0x7f604dac2950>"
      ]
     },
     "metadata": {},
     "output_type": "display_data"
    },
    {
     "name": "stdout",
     "output_type": "stream",
     "text": [
      "0.91521912891\n"
     ]
    }
   ],
   "source": [
    "Z_out = pred1\n",
    "\n",
    "plt.plot(Z_out,\"o\",markersize=2,markeredgewidth=0.5,markeredgecolor='b',markerfacecolor='none')\n",
    "plt.plot(Y_test,'r',linewidth=1.0)\n",
    "\n",
    "plt.xlabel('Time [index]',fontsize=8)\n",
    "plt.ylabel('Range (m)',fontsize=8)\n",
    "plt.tick_params(axis='both', which='major', labelsize=8)\n",
    "plt.tick_params(axis='both', which='minor', labelsize=8)\n",
    "plt.title('Random Forest Classifier',fontsize=8)\n",
    "\n",
    "plt.show()\n",
    "print MAPE(np.array(Z_out[:, 0]), Y_test)"
   ]
  },
  {
   "cell_type": "code",
   "execution_count": 63,
   "metadata": {
    "collapsed": true
   },
   "outputs": [],
   "source": [
    "Z_out_550 = Z_out"
   ]
  },
  {
   "cell_type": "code",
   "execution_count": 131,
   "metadata": {
    "collapsed": false
   },
   "outputs": [
    {
     "data": {
      "image/png": "[encoded data removed]",
      "text/plain": [
       "<matplotlib.figure.Figure at 0x7f604d524a90>"
      ]
     },
     "metadata": {},
     "output_type": "display_data"
    }
   ],
   "source": [
    "plt.subplot(311)\n",
    "plt.plot(Z_out_950,\"o\",markersize=2,markeredgewidth=0.5,markeredgecolor='b',markerfacecolor='none')\n",
    "plt.plot(Y_test,'r',linewidth=1.0)\n",
    "\n",
    "plt.xlabel('Time [index]',fontsize=8)\n",
    "plt.ylabel('Range (m)',fontsize=8)\n",
    "plt.tick_params(axis='both', which='major', labelsize=8)\n",
    "plt.tick_params(axis='both', which='minor', labelsize=8)\n",
    "\n",
    "plt.subplot(312)\n",
    "plt.plot(Z_out_550,\"o\",markersize=2,markeredgewidth=0.5,markeredgecolor='b',markerfacecolor='none')\n",
    "plt.plot(Y_test,'r',linewidth=1.0)\n",
    "\n",
    "plt.xlabel('Time [index]',fontsize=8)\n",
    "plt.ylabel('Range (m)',fontsize=8)\n",
    "plt.tick_params(axis='both', which='major', labelsize=8)\n",
    "plt.tick_params(axis='both', which='minor', labelsize=8)\n",
    "\n",
    "plt.subplot(313)\n",
    "plt.plot(Z_out_10,\"o\",markersize=2,markeredgewidth=0.5,markeredgecolor='b',markerfacecolor='none')\n",
    "plt.plot(Y_test,'r',linewidth=1.0)\n",
    "\n",
    "plt.xlabel('Time [index]',fontsize=8)\n",
    "plt.ylabel('Range (m)',fontsize=8)\n",
    "plt.tick_params(axis='both', which='major', labelsize=8)\n",
    "plt.tick_params(axis='both', which='minor', labelsize=8)\n",
    "\n",
    "plt.show()"
   ]
  },
  {
   "cell_type": "code",
   "execution_count": null,
   "metadata": {
    "collapsed": true
   },
   "outputs": [],
   "source": []
  }
 ],
 "metadata": {
  "anaconda-cloud": {},
  "kernelspec": {
   "display_name": "Python 2",
   "language": "python",
   "name": "python2"
  },
  "language_info": {
   "codemirror_mode": {
    "name": "ipython",
    "version": 2
   },
   "file_extension": ".py",
   "mimetype": "text/x-python",
   "name": "python",
   "nbconvert_exporter": "python",
   "pygments_lexer": "ipython2",
   "version": "2.7.13"
  }
 },
 "nbformat": 4,
 "nbformat_minor": 1
}
