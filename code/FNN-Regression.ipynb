{
 "cells": [
  {
   "cell_type": "code",
   "execution_count": 1,
   "metadata": {
    "collapsed": false
   },
   "outputs": [],
   "source": [
    "import numpy as np\n",
    "import matplotlib.pyplot as plt\n",
    "from sklearn import svm\n",
    "\n",
    "set_name = 'DataSet01_300_950Hz_snap=5'\n",
    "# Training Data\n",
    "X_train = np.loadtxt( './data/' + set_name + '/SBCEx16_training_input.txt')\n",
    "Y_train = np.loadtxt( './data/'+ set_name + '/training_labels.txt')\n",
    "Range_train = np.loadtxt( './data/'+ set_name  + '/Mapping_range_labels.txt')\n",
    "\n",
    "# Test Data\n",
    "X_test = np.loadtxt( './data/'+ set_name + '/SBCEx16_test_input.txt')\n",
    "Y_test = np.loadtxt( './data/'+ set_name + '/test_Ranges.txt')"
   ]
  },
  {
   "cell_type": "code",
   "execution_count": 2,
   "metadata": {
    "collapsed": true
   },
   "outputs": [],
   "source": [
    "Y_train2 = np.loadtxt( './data/'+ set_name + '/training_Ranges.txt')"
   ]
  },
  {
   "cell_type": "code",
   "execution_count": 3,
   "metadata": {
    "collapsed": true
   },
   "outputs": [],
   "source": [
    "import math"
   ]
  },
  {
   "cell_type": "markdown",
   "metadata": {},
   "source": [
    "##### MAPE function"
   ]
  },
  {
   "cell_type": "code",
   "execution_count": 4,
   "metadata": {
    "collapsed": false
   },
   "outputs": [],
   "source": [
    "def MAPE(pred, y):\n",
    "    # the pred here should be Z_out\n",
    "    # the y should be y_test\n",
    "    n = len(y)\n",
    "    return sum(np.abs(pred - y) / y) / n"
   ]
  },
  {
   "cell_type": "markdown",
   "metadata": {},
   "source": [
    "### feature selection"
   ]
  },
  {
   "cell_type": "code",
   "execution_count": 5,
   "metadata": {
    "collapsed": false
   },
   "outputs": [],
   "source": [
    "from sklearn.ensemble import ExtraTreesClassifier\n",
    "from sklearn.feature_selection import SelectFromModel"
   ]
  },
  {
   "cell_type": "code",
   "execution_count": 6,
   "metadata": {
    "collapsed": false
   },
   "outputs": [],
   "source": [
    "clf = ExtraTreesClassifier()\n",
    "clf = clf.fit(X_train, Y_train)\n",
    "model = SelectFromModel(clf, prefit=True)"
   ]
  },
  {
   "cell_type": "code",
   "execution_count": 7,
   "metadata": {
    "collapsed": false
   },
   "outputs": [],
   "source": [
    "X_train2 = model.transform(X_train)\n",
    "X_test2 = model.transform(X_test)"
   ]
  },
  {
   "cell_type": "code",
   "execution_count": 8,
   "metadata": {
    "collapsed": false
   },
   "outputs": [
    {
     "data": {
      "text/plain": [
       "(890, 4522)"
      ]
     },
     "execution_count": 8,
     "metadata": {},
     "output_type": "execute_result"
    }
   ],
   "source": [
    "X_train2.shape"
   ]
  },
  {
   "cell_type": "markdown",
   "metadata": {},
   "source": [
    "### FNN"
   ]
  },
  {
   "cell_type": "code",
   "execution_count": 89,
   "metadata": {
    "collapsed": true
   },
   "outputs": [],
   "source": [
    "import tensorflow as tf"
   ]
  },
  {
   "cell_type": "markdown",
   "metadata": {},
   "source": [
    "##### data preprocessing - use the range as y"
   ]
  },
  {
   "cell_type": "code",
   "execution_count": 90,
   "metadata": {
    "collapsed": false
   },
   "outputs": [],
   "source": [
    "y_train = np.matrix(Y_train2).T"
   ]
  },
  {
   "cell_type": "code",
   "execution_count": 91,
   "metadata": {
    "collapsed": false
   },
   "outputs": [
    {
     "name": "stdout",
     "output_type": "stream",
     "text": [
      "(890, 1)\n"
     ]
    }
   ],
   "source": [
    "print y_train.shape"
   ]
  },
  {
   "cell_type": "code",
   "execution_count": 92,
   "metadata": {
    "collapsed": true
   },
   "outputs": [],
   "source": [
    "def init_weights(shape):\n",
    "    \"\"\" Weight initialization \"\"\"\n",
    "    weights = tf.random_normal(shape, stddev=0.2)\n",
    "    return tf.Variable(weights)"
   ]
  },
  {
   "cell_type": "code",
   "execution_count": 93,
   "metadata": {
    "collapsed": true
   },
   "outputs": [],
   "source": [
    "def forwardprop(X, w_1, w_2):\n",
    "    \"\"\"\n",
    "    Forward-propagation.\n",
    "    IMPORTANT: yhat is not softmax since TensorFlow's softmax_cross_entropy_with_logits() does that internally.\n",
    "    \"\"\"\n",
    "    h    = tf.nn.sigmoid(tf.matmul(X, w_1))  # The \\sigma function\n",
    "    yhat = tf.matmul(h, w_2)  # The \\varphi function\n",
    "    return yhat"
   ]
  },
  {
   "cell_type": "markdown",
   "metadata": {},
   "source": [
    "#### Parameters for the model"
   ]
  },
  {
   "cell_type": "code",
   "execution_count": 94,
   "metadata": {
    "collapsed": false
   },
   "outputs": [],
   "source": [
    "n_in = X_train2.shape[1]\n",
    "n_h1 = 256\n",
    "n_cls = y_train.shape[1]\n",
    "\n",
    "x = tf.placeholder(tf.float32, [None, n_in])\n",
    "y = tf.placeholder(tf.float32, [None, n_cls])"
   ]
  },
  {
   "cell_type": "code",
   "execution_count": 95,
   "metadata": {
    "collapsed": true
   },
   "outputs": [],
   "source": [
    "def nn_model1(data, beta):\n",
    "    W1 = init_weights((n_in, n_h1))\n",
    "    b1 = tf.Variable(tf.zeros([n_h1]))\n",
    "\n",
    "    Wout = init_weights((n_h1, n_cls))\n",
    "    bout = tf.Variable(tf.zeros([n_cls]))\n",
    "    \n",
    "    l1 = tf.matmul(data, W1) + b1\n",
    "    l1 = tf.nn.relu(l1)\n",
    "    \n",
    "    pred = tf.matmul(l1, Wout) + bout\n",
    "    \n",
    "    reg = beta*tf.nn.l2_loss(W1) + \\\n",
    "        beta*tf.nn.l2_loss(b1) + \\\n",
    "        beta*tf.nn.l2_loss(Wout) + \\\n",
    "        beta*tf.nn.l2_loss(bout)\n",
    "    return pred, reg"
   ]
  },
  {
   "cell_type": "markdown",
   "metadata": {},
   "source": [
    "#### Parameters for the Training"
   ]
  },
  {
   "cell_type": "code",
   "execution_count": 96,
   "metadata": {
    "collapsed": true
   },
   "outputs": [],
   "source": [
    "batch_size = 50\n",
    "n_eps = 50\n",
    "disp_step = 10\n",
    "learning_rate = 0.001\n",
    "beta = 0.001"
   ]
  },
  {
   "cell_type": "code",
   "execution_count": 97,
   "metadata": {
    "collapsed": true
   },
   "outputs": [],
   "source": [
    "def train_nn1(data):\n",
    "    pred, reg = nn_model1(data, beta)\n",
    "    #cost = -tf.reduce_sum(y*tf.log(tf.clip_by_value(pred,1e-11,1.0)))\n",
    "    cost = tf.reduce_sum(tf.pow(pred - y, 2) + reg)\n",
    "    \n",
    "    optimizer = tf.train.AdamOptimizer(learning_rate).minimize(cost)\n",
    "    \n",
    "    # Test model\n",
    "    correct_prediction = tf.equal(tf.argmax(pred, 1), tf.argmax(y, 1))\n",
    "    # Calculate accuracy\n",
    "    accuracy = tf.reduce_mean(tf.cast(correct_prediction, tf.float32))\n",
    "    \n",
    "    epochs = n_eps\n",
    "    \n",
    "    with tf.Session() as sess:\n",
    "        tf.global_variables_initializer().run()\n",
    "        #prev_loss = None\n",
    "        \n",
    "        for epoch in range(epochs):\n",
    "            avg_cost = 0\n",
    "            total_batch = int(X_train2.shape[0] / batch_size)\n",
    "            \n",
    "            # Training\n",
    "            for i in range(total_batch):\n",
    "                xb = X_train2[i * batch_size : (i + 1) * batch_size]\n",
    "                yb = y_train[i * batch_size : (i + 1) * batch_size]\n",
    "                _, c = sess.run([optimizer, cost], feed_dict = {x: xb, y: yb})\n",
    "                avg_cost += c / total_batch\n",
    "            \n",
    "            if (epoch+1) % disp_step == 0:\n",
    "                print(\"Epoch:\", '%04d' % (epoch+1), \"cost=\", \"{:.9f}\".format(avg_cost))\n",
    "            if math.isnan(avg_cost):\n",
    "                break\n",
    "            #prev_loss = loss\n",
    "        print 'training finished!'\n",
    "        predictions = sess.run(pred, feed_dict = {x: X_test2})\n",
    "            \n",
    "        \n",
    "        print(\"accuarcy(train) =\",sess.run(accuracy, feed_dict={x:X_train2, y: y_train}))\n",
    "    return predictions\n",
    "    \n",
    "        #correct = tf.equal(tf.argmax(pred,1), tf.argmax(y,1))\n",
    "        #accuracy = tf.reduce_mean(tf.cast(correct, tf.float32))\n",
    "        #print(sess.run(accuracy, feed_dict = \\\n",
    "        #               {x: mnist.test.images, y: mnist.test.labels}))"
   ]
  },
  {
   "cell_type": "code",
   "execution_count": 98,
   "metadata": {
    "collapsed": false
   },
   "outputs": [
    {
     "name": "stdout",
     "output_type": "stream",
     "text": [
      "('Epoch:', '0010', 'cost=', '55452155.529411770')\n",
      "('Epoch:', '0020', 'cost=', '17356179.779411763')\n",
      "('Epoch:', '0030', 'cost=', '6783244.458639706')\n",
      "('Epoch:', '0040', 'cost=', '2779482.104779412')\n",
      "('Epoch:', '0050', 'cost=', '973808.038602941')\n",
      "training finished!\n",
      "('accuarcy(train) =', 1.0)\n"
     ]
    }
   ],
   "source": [
    "pred1 = train_nn1(x)"
   ]
  },
  {
   "cell_type": "code",
   "execution_count": 99,
   "metadata": {
    "collapsed": false
   },
   "outputs": [
    {
     "data": {
      "image/png": "[encoded data removed]",
      "text/plain": [
       "<matplotlib.figure.Figure at 0x7fe94dbb75d0>"
      ]
     },
     "metadata": {},
     "output_type": "display_data"
    },
    {
     "name": "stdout",
     "output_type": "stream",
     "text": [
      "0.425857232997\n"
     ]
    }
   ],
   "source": [
    "Z_out = pred1\n",
    "\n",
    "plt.plot(Z_out,\"o\",markersize=2,markeredgewidth=0.5,markeredgecolor='b',markerfacecolor='none')\n",
    "plt.plot(Y_test,'r',linewidth=1.0)\n",
    "\n",
    "plt.xlabel('Time [index]',fontsize=8)\n",
    "plt.ylabel('Range (m)',fontsize=8)\n",
    "plt.tick_params(axis='both', which='major', labelsize=8)\n",
    "plt.tick_params(axis='both', which='minor', labelsize=8)\n",
    "plt.title('Random Forest Classifier',fontsize=8)\n",
    "\n",
    "plt.show()\n",
    "print MAPE(np.array(Z_out[:, 0]), Y_test)"
   ]
  },
  {
   "cell_type": "code",
   "execution_count": 100,
   "metadata": {
    "collapsed": true
   },
   "outputs": [],
   "source": [
    "Z_out1 = Z_out"
   ]
  },
  {
   "cell_type": "markdown",
   "metadata": {},
   "source": [
    "#### 2 layers FNN"
   ]
  },
  {
   "cell_type": "code",
   "execution_count": 21,
   "metadata": {
    "collapsed": true
   },
   "outputs": [],
   "source": [
    "n_in = X_train2.shape[1]\n",
    "n_h1 = 256\n",
    "n_h2 = 256\n",
    "n_cls = 1\n",
    "\n",
    "x = tf.placeholder(tf.float32, [None, n_in])\n",
    "y = tf.placeholder(tf.float32, [None, n_cls])"
   ]
  },
  {
   "cell_type": "code",
   "execution_count": 22,
   "metadata": {
    "collapsed": false
   },
   "outputs": [],
   "source": [
    "def nn_model2(data, beta):\n",
    "    W1 = init_weights((n_in, n_h1))\n",
    "    b1 = tf.Variable(tf.zeros([n_h1]))\n",
    "    \n",
    "    W2 = init_weights((n_h1, n_h2))\n",
    "    b2 = tf.Variable(tf.zeros([n_h2]))\n",
    "\n",
    "    Wout = init_weights((n_h2, n_cls))\n",
    "    bout = tf.Variable(tf.zeros([n_cls]))\n",
    "    \n",
    "    l1 = tf.matmul(data, W1) + b1\n",
    "    l1 = tf.nn.relu(l1)\n",
    "    \n",
    "    l2 = tf.matmul(l1, W2) + b2\n",
    "    l2 = tf.nn.relu(l2)\n",
    "    \n",
    "    pred = tf.matmul(l2, Wout) + bout\n",
    "    \n",
    "    reg = beta*tf.nn.l2_loss(W1) + \\\n",
    "        beta*tf.nn.l2_loss(b1) + \\\n",
    "        beta*tf.nn.l2_loss(W2) + \\\n",
    "        beta*tf.nn.l2_loss(b2) + \\\n",
    "        beta*tf.nn.l2_loss(Wout) + \\\n",
    "        beta*tf.nn.l2_loss(bout)\n",
    "    return pred, reg"
   ]
  },
  {
   "cell_type": "code",
   "execution_count": 57,
   "metadata": {
    "collapsed": true
   },
   "outputs": [],
   "source": [
    "batch_size = 50\n",
    "n_eps = 350\n",
    "disp_step = 10\n",
    "learning_rate = 0.0002\n",
    "# regularization \n",
    "beta = 0.0001"
   ]
  },
  {
   "cell_type": "code",
   "execution_count": 58,
   "metadata": {
    "collapsed": true
   },
   "outputs": [],
   "source": [
    "def train_nn2(data):\n",
    "    pred, reg = nn_model2(data, beta)\n",
    "    cost = tf.reduce_sum(tf.pow(pred - y, 2))\n",
    "                           \n",
    "    optimizer = tf.train.AdamOptimizer(learning_rate).minimize(cost)\n",
    "    \n",
    "    # Test model\n",
    "    correct_prediction = tf.equal(tf.argmax(pred, 1), tf.argmax(y, 1))\n",
    "    # Calculate accuracy\n",
    "    accuracy = tf.reduce_mean(tf.cast(correct_prediction, tf.float32))\n",
    "    \n",
    "    epochs = n_eps\n",
    "    \n",
    "    with tf.Session() as sess:\n",
    "        tf.global_variables_initializer().run()\n",
    "        #prev_loss = None\n",
    "        \n",
    "        for epoch in range(epochs):\n",
    "            avg_cost = 0\n",
    "            total_batch = int(X_train2.shape[0] / batch_size)\n",
    "            \n",
    "            # Training\n",
    "            for i in range(total_batch):\n",
    "                xb = X_train2[i * batch_size : (i + 1) * batch_size]\n",
    "                yb = y_train[i * batch_size : (i + 1) * batch_size]\n",
    "                _, c = sess.run([optimizer, cost], feed_dict = {x: xb, y: yb})\n",
    "                avg_cost += c / total_batch\n",
    "            \n",
    "            if (epoch+1) % disp_step == 0:\n",
    "                print(\"Epoch:\", '%04d' % (epoch+1), \"cost=\", \"{:.9f}\".format(avg_cost))\n",
    "            if avg_cost < 170:\n",
    "                break\n",
    "            if math.isnan(avg_cost):\n",
    "                break\n",
    "            #prev_loss = loss\n",
    "        print 'training finished!'\n",
    "        predictions = sess.run(pred, feed_dict = {x: X_test2})\n",
    "            \n",
    "        \n",
    "        print(\"accuarcy(train) =\",sess.run(accuracy, feed_dict={x:X_train2, y: y_train}))\n",
    "    return predictions\n",
    "    \n",
    "        #correct = tf.equal(tf.argmax(pred,1), tf.argmax(y,1))\n",
    "        #accuracy = tf.reduce_mean(tf.cast(correct, tf.float32))\n",
    "        #print(sess.run(accuracy, feed_dict = \\\n",
    "        #               {x: mnist.test.images, y: mnist.test.labels}))"
   ]
  },
  {
   "cell_type": "code",
   "execution_count": 59,
   "metadata": {
    "collapsed": false
   },
   "outputs": [
    {
     "name": "stdout",
     "output_type": "stream",
     "text": [
      "('Epoch:', '0010', 'cost=', '59767094.615808822')\n",
      "('Epoch:', '0020', 'cost=', '10239132.794117648')\n",
      "('Epoch:', '0030', 'cost=', '4863989.170955883')\n",
      "('Epoch:', '0040', 'cost=', '2371077.360294118')\n",
      "('Epoch:', '0050', 'cost=', '1069921.677389706')\n",
      "('Epoch:', '0060', 'cost=', '499518.825367647')\n",
      "('Epoch:', '0070', 'cost=', '281476.806985294')\n",
      "('Epoch:', '0080', 'cost=', '188820.744025735')\n",
      "('Epoch:', '0090', 'cost=', '137573.685661765')\n",
      "('Epoch:', '0100', 'cost=', '104058.214154412')\n",
      "('Epoch:', '0110', 'cost=', '80205.491957721')\n",
      "('Epoch:', '0120', 'cost=', '62229.745634191')\n",
      "('Epoch:', '0130', 'cost=', '48279.633157169')\n",
      "('Epoch:', '0140', 'cost=', '37262.069623162')\n",
      "('Epoch:', '0150', 'cost=', '28513.907456342')\n",
      "('Epoch:', '0160', 'cost=', '21538.614774816')\n",
      "('Epoch:', '0170', 'cost=', '16014.897547105')\n",
      "('Epoch:', '0180', 'cost=', '11693.381318934')\n",
      "('Epoch:', '0190', 'cost=', '8369.887020335')\n",
      "('Epoch:', '0200', 'cost=', '5871.249138327')\n",
      "('Epoch:', '0210', 'cost=', '4027.320053998')\n",
      "('Epoch:', '0220', 'cost=', '2698.256875431')\n",
      "('Epoch:', '0230', 'cost=', '1764.020953010')\n",
      "('Epoch:', '0240', 'cost=', '1126.271994198')\n",
      "('Epoch:', '0250', 'cost=', '701.600900089')\n",
      "('Epoch:', '0260', 'cost=', '427.794136945')\n",
      "('Epoch:', '0270', 'cost=', '258.251244040')\n",
      "('Epoch:', '0280', 'cost=', '246.730632109')\n",
      "('Epoch:', '0290', 'cost=', '2473.072948231')\n",
      "('Epoch:', '0300', 'cost=', '2646.258460550')\n",
      "('Epoch:', '0310', 'cost=', '897.052774205')\n",
      "('Epoch:', '0320', 'cost=', '5183.202983183')\n",
      "('Epoch:', '0330', 'cost=', '5169.107123880')\n",
      "('Epoch:', '0340', 'cost=', '4009.227363138')\n",
      "('Epoch:', '0350', 'cost=', '7576.278267356')\n",
      "training finished!\n",
      "('accuarcy(train) =', 1.0)\n"
     ]
    }
   ],
   "source": [
    "pred2 = train_nn2(x)"
   ]
  },
  {
   "cell_type": "code",
   "execution_count": 60,
   "metadata": {
    "collapsed": false
   },
   "outputs": [
    {
     "data": {
      "image/png": "[encoded data removed]",
      "text/plain": [
       "<matplotlib.figure.Figure at 0x7fe953627d90>"
      ]
     },
     "metadata": {},
     "output_type": "display_data"
    },
    {
     "name": "stdout",
     "output_type": "stream",
     "text": [
      "0.363402436377\n"
     ]
    }
   ],
   "source": [
    "Z_out = pred2\n",
    "\n",
    "plt.plot(Z_out,\"o\",markersize=2,markeredgewidth=0.5,markeredgecolor='b',markerfacecolor='none')\n",
    "plt.plot(Y_test,'r',linewidth=1.0)\n",
    "\n",
    "plt.xlabel('Time [index]',fontsize=8)\n",
    "plt.ylabel('Range (m)',fontsize=8)\n",
    "plt.tick_params(axis='both', which='major', labelsize=8)\n",
    "plt.tick_params(axis='both', which='minor', labelsize=8)\n",
    "plt.title('FNN regression',fontsize=8)\n",
    "\n",
    "plt.show()\n",
    "print MAPE(np.array(pred2[:, 0]), Y_test)"
   ]
  },
  {
   "cell_type": "code",
   "execution_count": 61,
   "metadata": {
    "collapsed": true
   },
   "outputs": [],
   "source": [
    "Z_out2 = Z_out"
   ]
  },
  {
   "cell_type": "markdown",
   "metadata": {},
   "source": [
    "_optimal params_:   \n",
    "beta = 0.0001 learning_rate = 0.0005  \n",
    "\n",
    "beta = 5e-5   learning_rate = 0.0005  \n",
    "\n",
    "beta = 0.0002 learning_rate = 0.0005"
   ]
  },
  {
   "cell_type": "markdown",
   "metadata": {},
   "source": [
    "#### 3 layers FNN"
   ]
  },
  {
   "cell_type": "code",
   "execution_count": 77,
   "metadata": {
    "collapsed": true
   },
   "outputs": [],
   "source": [
    "n_in = X_train2.shape[1]\n",
    "n_h1 = 256\n",
    "n_h2 = 256\n",
    "n_h3 = 256\n",
    "n_cls = 1\n",
    "\n",
    "x = tf.placeholder(tf.float32, [None, n_in])\n",
    "y = tf.placeholder(tf.float32, [None, n_cls])"
   ]
  },
  {
   "cell_type": "code",
   "execution_count": 78,
   "metadata": {
    "collapsed": true
   },
   "outputs": [],
   "source": [
    "def nn_model3(data, beta):\n",
    "    W1 = init_weights((n_in, n_h1))\n",
    "    b1 = tf.Variable(tf.zeros([n_h1]))\n",
    "    \n",
    "    W2 = init_weights((n_h1, n_h2))\n",
    "    b2 = tf.Variable(tf.zeros([n_h2]))\n",
    "    \n",
    "    W3 = init_weights((n_h2, n_h3))\n",
    "    b3 = tf.Variable(tf.zeros([n_h3]))\n",
    "\n",
    "    Wout = init_weights((n_h3, n_cls))\n",
    "    bout = tf.Variable(tf.zeros([n_cls]))\n",
    "    \n",
    "    l1 = tf.matmul(data, W1) + b1\n",
    "    l1 = tf.nn.relu(l1)\n",
    "    \n",
    "    l2 = tf.matmul(l1, W2) + b2\n",
    "    l2 = tf.nn.relu(l2)\n",
    "    \n",
    "    l3 = tf.matmul(l2, W3) + b3\n",
    "    l3 = tf.nn.relu(l3)\n",
    "    \n",
    "    pred = tf.matmul(l3, Wout) + bout\n",
    "    \n",
    "    reg = beta*tf.nn.l2_loss(W1) + \\\n",
    "        beta*tf.nn.l2_loss(b1) + \\\n",
    "        beta*tf.nn.l2_loss(W2) + \\\n",
    "        beta*tf.nn.l2_loss(b2) + \\\n",
    "        beta*tf.nn.l2_loss(W3) + \\\n",
    "        beta*tf.nn.l2_loss(b3) + \\\n",
    "        beta*tf.nn.l2_loss(Wout) + \\\n",
    "        beta*tf.nn.l2_loss(bout)\n",
    "    return pred, reg"
   ]
  },
  {
   "cell_type": "code",
   "execution_count": 82,
   "metadata": {
    "collapsed": true
   },
   "outputs": [],
   "source": [
    "batch_size = 50\n",
    "n_eps = 500\n",
    "disp_step = 10\n",
    "learning_rate = 0.00005\n",
    "# regularization \n",
    "beta = 0.00001"
   ]
  },
  {
   "cell_type": "code",
   "execution_count": 83,
   "metadata": {
    "collapsed": true
   },
   "outputs": [],
   "source": [
    "def train_nn3(data):\n",
    "    pred, reg = nn_model3(data, beta)\n",
    "    cost = tf.reduce_sum(tf.pow(pred - y, 2))\n",
    "    #cost = tf.reduce_mean(tf.nn.softmax_cross_entropy_with_logits(\\\n",
    "    #    logits = pred, labels = y))\n",
    "                           \n",
    "    optimizer = tf.train.AdamOptimizer(learning_rate).minimize(cost)\n",
    "    \n",
    "    # Test model\n",
    "    correct_prediction = tf.equal(tf.argmax(pred, 1), tf.argmax(y, 1))\n",
    "    # Calculate accuracy\n",
    "    accuracy = tf.reduce_mean(tf.cast(correct_prediction, tf.float32))\n",
    "    \n",
    "    epochs = n_eps\n",
    "    \n",
    "    with tf.Session() as sess:\n",
    "        tf.global_variables_initializer().run()\n",
    "        #prev_loss = None\n",
    "        \n",
    "        for epoch in range(epochs):\n",
    "            avg_cost = 0\n",
    "            total_batch = int(X_train2.shape[0] / batch_size)\n",
    "            \n",
    "            # Training\n",
    "            for i in range(total_batch):\n",
    "                xb = X_train2[i * batch_size : (i + 1) * batch_size]\n",
    "                yb = y_train[i * batch_size : (i + 1) * batch_size]\n",
    "                _, c = sess.run([optimizer, cost], feed_dict = {x: xb, y: yb})\n",
    "                avg_cost += c / total_batch\n",
    "            \n",
    "            if (epoch+1) % disp_step == 0:\n",
    "                print(\"Epoch:\", '%04d' % (epoch+1), \"cost=\", \"{:.9f}\".format(avg_cost))\n",
    "            if math.isnan(avg_cost):\n",
    "                break\n",
    "            #prev_loss = loss\n",
    "        print 'training finished!'\n",
    "        predictions = sess.run(pred, feed_dict = {x: X_test2})\n",
    "            \n",
    "        \n",
    "        print(\"accuarcy(train) =\",sess.run(accuracy, feed_dict={x:X_train2, y: y_train}))\n",
    "    return predictions\n",
    "    \n",
    "        #correct = tf.equal(tf.argmax(pred,1), tf.argmax(y,1))\n",
    "        #accuracy = tf.reduce_mean(tf.cast(correct, tf.float32))\n",
    "        #print(sess.run(accuracy, feed_dict = \\\n",
    "        #               {x: mnist.test.images, y: mnist.test.labels}))"
   ]
  },
  {
   "cell_type": "code",
   "execution_count": 84,
   "metadata": {
    "collapsed": false
   },
   "outputs": [
    {
     "name": "stdout",
     "output_type": "stream",
     "text": [
      "('Epoch:', '0010', 'cost=', '76959241.201286763')\n",
      "('Epoch:', '0020', 'cost=', '47565840.860294119')\n",
      "('Epoch:', '0030', 'cost=', '17590510.981617644')\n",
      "('Epoch:', '0040', 'cost=', '10438623.018382354')\n",
      "('Epoch:', '0050', 'cost=', '7461153.597426469')\n",
      "('Epoch:', '0060', 'cost=', '5267869.941176470')\n",
      "('Epoch:', '0070', 'cost=', '3597604.038602942')\n",
      "('Epoch:', '0080', 'cost=', '2340290.886029412')\n",
      "('Epoch:', '0090', 'cost=', '1448065.746323529')\n",
      "('Epoch:', '0100', 'cost=', '878096.759191177')\n",
      "('Epoch:', '0110', 'cost=', '552818.797794118')\n",
      "('Epoch:', '0120', 'cost=', '375962.738970588')\n",
      "('Epoch:', '0130', 'cost=', '277716.029411765')\n",
      "('Epoch:', '0140', 'cost=', '217025.119025735')\n",
      "('Epoch:', '0150', 'cost=', '175250.777573529')\n",
      "('Epoch:', '0160', 'cost=', '144133.721507353')\n",
      "('Epoch:', '0170', 'cost=', '119712.683363971')\n",
      "('Epoch:', '0180', 'cost=', '99917.069393382')\n",
      "('Epoch:', '0190', 'cost=', '83516.820082721')\n",
      "('Epoch:', '0200', 'cost=', '69700.167509191')\n",
      "('Epoch:', '0210', 'cost=', '57978.202205882')\n",
      "('Epoch:', '0220', 'cost=', '48008.348920037')\n",
      "('Epoch:', '0230', 'cost=', '39516.594324449')\n",
      "('Epoch:', '0240', 'cost=', '32304.101332721')\n",
      "('Epoch:', '0250', 'cost=', '26194.749368107')\n",
      "('Epoch:', '0260', 'cost=', '21050.269473805')\n",
      "('Epoch:', '0270', 'cost=', '16749.021024816')\n",
      "('Epoch:', '0280', 'cost=', '13177.270651425')\n",
      "('Epoch:', '0290', 'cost=', '10239.763657514')\n",
      "('Epoch:', '0300', 'cost=', '7856.433593750')\n",
      "('Epoch:', '0310', 'cost=', '5944.000359030')\n",
      "('Epoch:', '0320', 'cost=', '4428.234956629')\n",
      "('Epoch:', '0330', 'cost=', '3249.521283318')\n",
      "('Epoch:', '0340', 'cost=', '2347.216412713')\n",
      "('Epoch:', '0350', 'cost=', '1667.702356675')\n",
      "('Epoch:', '0360', 'cost=', '1167.305387609')\n",
      "('Epoch:', '0370', 'cost=', '806.463211957')\n",
      "('Epoch:', '0380', 'cost=', '550.284188663')\n",
      "('Epoch:', '0390', 'cost=', '372.612655640')\n",
      "('Epoch:', '0400', 'cost=', '251.202469770')\n",
      "('Epoch:', '0410', 'cost=', '169.192808824')\n",
      "('Epoch:', '0420', 'cost=', '114.347920474')\n",
      "('Epoch:', '0430', 'cost=', '77.838002570')\n",
      "('Epoch:', '0440', 'cost=', '53.618581309')\n",
      "('Epoch:', '0450', 'cost=', '40.953592749')\n",
      "('Epoch:', '0460', 'cost=', '3492.346865261')\n",
      "('Epoch:', '0470', 'cost=', '3034.068305520')\n",
      "('Epoch:', '0480', 'cost=', '28.056312701')\n",
      "('Epoch:', '0490', 'cost=', '16.787522484')\n",
      "('Epoch:', '0500', 'cost=', '30.104876098')\n",
      "training finished!\n",
      "('accuarcy(train) =', 1.0)\n"
     ]
    }
   ],
   "source": [
    "pred3 = train_nn3(x)"
   ]
  },
  {
   "cell_type": "code",
   "execution_count": 87,
   "metadata": {
    "collapsed": false
   },
   "outputs": [
    {
     "data": {
      "image/png": "[encoded data removed]",
      "text/plain": [
       "<matplotlib.figure.Figure at 0x7fe946d1a0d0>"
      ]
     },
     "metadata": {},
     "output_type": "display_data"
    },
    {
     "name": "stdout",
     "output_type": "stream",
     "text": [
      "0.380039027349\n"
     ]
    }
   ],
   "source": [
    "\n",
    "Z_out = pred3\n",
    "\n",
    "plt.plot(Z_out,\"o\",markersize=2,markeredgewidth=0.5,markeredgecolor='b',markerfacecolor='none')\n",
    "plt.plot(Y_test,'r',linewidth=1.0)\n",
    "\n",
    "plt.xlabel('Time [index]',fontsize=8)\n",
    "plt.ylabel('Range (m)',fontsize=8)\n",
    "plt.tick_params(axis='both', which='major', labelsize=8)\n",
    "plt.tick_params(axis='both', which='minor', labelsize=8)\n",
    "plt.title('Random Forest Classifier',fontsize=8)\n",
    "\n",
    "plt.show()\n",
    "print MAPE(np.array(pred3[:, 0]), Y_test)"
   ]
  },
  {
   "cell_type": "code",
   "execution_count": 88,
   "metadata": {
    "collapsed": true
   },
   "outputs": [],
   "source": [
    "Z_out3 = Z_out"
   ]
  },
  {
   "cell_type": "code",
   "execution_count": 110,
   "metadata": {
    "collapsed": false
   },
   "outputs": [
    {
     "data": {
      "image/png": "[encoded data removed]",
      "text/plain": [
       "<matplotlib.figure.Figure at 0x7fe938374510>"
      ]
     },
     "metadata": {},
     "output_type": "display_data"
    }
   ],
   "source": [
    "f, axs = plt.subplots(3,1,figsize=(8,10))\n",
    "\n",
    "plt.subplot(311)\n",
    "plt.plot(Z_out1,\"o\",markersize=2,markeredgewidth=0.5,markeredgecolor='b',markerfacecolor='none')\n",
    "plt.plot(Y_test,'r',linewidth=1.0)\n",
    "\n",
    "plt.xlabel('Time [index]',fontsize=8)\n",
    "plt.ylabel('Range (m)',fontsize=8)\n",
    "plt.tick_params(axis='both', which='major', labelsize=8)\n",
    "plt.tick_params(axis='both', which='minor', labelsize=8)\n",
    "\n",
    "plt.subplot(312)\n",
    "plt.plot(Z_out2,\"o\",markersize=2,markeredgewidth=0.5,markeredgecolor='b',markerfacecolor='none')\n",
    "plt.plot(Y_test,'r',linewidth=1.0)\n",
    "\n",
    "plt.xlabel('Time [index]',fontsize=8)\n",
    "plt.ylabel('Range (m)',fontsize=8)\n",
    "plt.tick_params(axis='both', which='major', labelsize=8)\n",
    "plt.tick_params(axis='both', which='minor', labelsize=8)  \n",
    "\n",
    "plt.subplot(313)\n",
    "plt.plot(Z_out3,\"o\",markersize=2,markeredgewidth=0.5,markeredgecolor='b',markerfacecolor='none')\n",
    "plt.plot(Y_test,'r',linewidth=1.0)\n",
    "\n",
    "plt.xlabel('Time [index]',fontsize=8)\n",
    "plt.ylabel('Range (m)',fontsize=8)\n",
    "plt.tick_params(axis='both', which='major', labelsize=8)\n",
    "plt.tick_params(axis='both', which='minor', labelsize=8)\n",
    "\n",
    "plt.show()"
   ]
  },
  {
   "cell_type": "code",
   "execution_count": null,
   "metadata": {
    "collapsed": true
   },
   "outputs": [],
   "source": []
  }
 ],
 "metadata": {
  "anaconda-cloud": {},
  "kernelspec": {
   "display_name": "Python 2",
   "language": "python",
   "name": "python2"
  },
  "language_info": {
   "codemirror_mode": {
    "name": "ipython",
    "version": 2
   },
   "file_extension": ".py",
   "mimetype": "text/x-python",
   "name": "python",
   "nbconvert_exporter": "python",
   "pygments_lexer": "ipython2",
   "version": "2.7.13"
  }
 },
 "nbformat": 4,
 "nbformat_minor": 1
}
