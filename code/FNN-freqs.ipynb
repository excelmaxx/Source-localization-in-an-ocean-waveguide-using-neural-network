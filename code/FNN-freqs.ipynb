{
 "cells": [
  {
   "cell_type": "code",
   "execution_count": 272,
   "metadata": {
    "collapsed": false
   },
   "outputs": [],
   "source": [
    "import numpy as np\n",
    "import matplotlib.pyplot as plt\n",
    "from sklearn import svm\n",
    "\n",
    "set_name = 'DataSet01_550Hz_snap=10'\n",
    "# Training Data\n",
    "X_train = np.loadtxt( './data/' + set_name + '/SBCEx16_training_input.txt')\n",
    "Y_train = np.loadtxt( './data/'+ set_name + '/training_labels.txt')\n",
    "Range_train = np.loadtxt( './data/'+ set_name  + '/Mapping_range_labels.txt')\n",
    "\n",
    "# Test Data\n",
    "X_test = np.loadtxt( './data/'+ set_name + '/SBCEx16_test_input.txt')\n",
    "Y_test = np.loadtxt( './data/'+ set_name + '/test_Ranges.txt')"
   ]
  },
  {
   "cell_type": "code",
   "execution_count": 273,
   "metadata": {
    "collapsed": true
   },
   "outputs": [],
   "source": [
    "Y_train2 = np.loadtxt( './data/'+ set_name + '/training_Ranges.txt')"
   ]
  },
  {
   "cell_type": "code",
   "execution_count": 274,
   "metadata": {
    "collapsed": true
   },
   "outputs": [],
   "source": [
    "import math"
   ]
  },
  {
   "cell_type": "markdown",
   "metadata": {},
   "source": [
    "##### MAPE function"
   ]
  },
  {
   "cell_type": "code",
   "execution_count": 275,
   "metadata": {
    "collapsed": false
   },
   "outputs": [],
   "source": [
    "def MAPE(pred, y):\n",
    "    # the pred here should be Z_out\n",
    "    # the y should be y_test\n",
    "    n = len(y)\n",
    "    return sum(np.abs(pred - y) / y) / n"
   ]
  },
  {
   "cell_type": "markdown",
   "metadata": {},
   "source": [
    "### feature selection"
   ]
  },
  {
   "cell_type": "code",
   "execution_count": 276,
   "metadata": {
    "collapsed": false
   },
   "outputs": [],
   "source": [
    "from sklearn.ensemble import ExtraTreesClassifier\n",
    "from sklearn.feature_selection import SelectFromModel"
   ]
  },
  {
   "cell_type": "code",
   "execution_count": 277,
   "metadata": {
    "collapsed": false
   },
   "outputs": [],
   "source": [
    "clf = ExtraTreesClassifier()\n",
    "clf = clf.fit(X_train, Y_train)\n",
    "model = SelectFromModel(clf, prefit=True)"
   ]
  },
  {
   "cell_type": "code",
   "execution_count": 278,
   "metadata": {
    "collapsed": false
   },
   "outputs": [],
   "source": [
    "X_train2 = model.transform(X_train)\n",
    "X_test2 = model.transform(X_test)"
   ]
  },
  {
   "cell_type": "code",
   "execution_count": 279,
   "metadata": {
    "collapsed": false
   },
   "outputs": [
    {
     "data": {
      "text/plain": [
       "(188, 240)"
      ]
     },
     "execution_count": 279,
     "metadata": {},
     "output_type": "execute_result"
    }
   ],
   "source": [
    "X_test.shape"
   ]
  },
  {
   "cell_type": "code",
   "execution_count": 280,
   "metadata": {
    "collapsed": false
   },
   "outputs": [
    {
     "data": {
      "text/plain": [
       "(885, 138)"
      ]
     },
     "execution_count": 280,
     "metadata": {},
     "output_type": "execute_result"
    }
   ],
   "source": [
    "X_train2.shape"
   ]
  },
  {
   "cell_type": "markdown",
   "metadata": {},
   "source": [
    "### FNN"
   ]
  },
  {
   "cell_type": "code",
   "execution_count": 281,
   "metadata": {
    "collapsed": true
   },
   "outputs": [],
   "source": [
    "import tensorflow as tf"
   ]
  },
  {
   "cell_type": "markdown",
   "metadata": {},
   "source": [
    "##### data preprocessing - change the y_train to one hot"
   ]
  },
  {
   "cell_type": "code",
   "execution_count": 282,
   "metadata": {
    "collapsed": false
   },
   "outputs": [],
   "source": [
    "import numpy as np\n",
    "y_train = np.zeros([len(Y_train), 148])\n",
    "for i in range(0,len(Y_train)):\n",
    "    temp=int(Y_train[i]-2)\n",
    "    y_train[i,temp]=1\n",
    "\n",
    "#y_train[np.arange(len(Y_train),int(Y_train))]=1"
   ]
  },
  {
   "cell_type": "code",
   "execution_count": 283,
   "metadata": {
    "collapsed": false
   },
   "outputs": [
    {
     "data": {
      "text/plain": [
       "(885, 148)"
      ]
     },
     "execution_count": 283,
     "metadata": {},
     "output_type": "execute_result"
    }
   ],
   "source": [
    "y_train.shape"
   ]
  },
  {
   "cell_type": "code",
   "execution_count": 284,
   "metadata": {
    "collapsed": true
   },
   "outputs": [],
   "source": [
    "def init_weights(shape):\n",
    "    \"\"\" Weight initialization \"\"\"\n",
    "    weights = tf.random_normal(shape, stddev=0.1)\n",
    "    return tf.Variable(weights)"
   ]
  },
  {
   "cell_type": "code",
   "execution_count": 285,
   "metadata": {
    "collapsed": true
   },
   "outputs": [],
   "source": [
    "def forwardprop(X, w_1, w_2):\n",
    "    \"\"\"\n",
    "    Forward-propagation.\n",
    "    IMPORTANT: yhat is not softmax since TensorFlow's softmax_cross_entropy_with_logits() does that internally.\n",
    "    \"\"\"\n",
    "    h    = tf.nn.sigmoid(tf.matmul(X, w_1))  # The \\sigma function\n",
    "    yhat = tf.matmul(h, w_2)  # The \\varphi function\n",
    "    return yhat"
   ]
  },
  {
   "cell_type": "markdown",
   "metadata": {},
   "source": [
    "#### Parameters for the model"
   ]
  },
  {
   "cell_type": "code",
   "execution_count": 286,
   "metadata": {
    "collapsed": true
   },
   "outputs": [],
   "source": [
    "n_in = X_train2.shape[1]\n",
    "n_h1 = 256\n",
    "n_cls = y_train.shape[1]\n",
    "\n",
    "x = tf.placeholder(tf.float32, [None, n_in])\n",
    "y = tf.placeholder(tf.float32, [None, n_cls])"
   ]
  },
  {
   "cell_type": "code",
   "execution_count": 287,
   "metadata": {
    "collapsed": true
   },
   "outputs": [],
   "source": [
    "def nn_model1(data):\n",
    "    W1 = init_weights((n_in, n_h1))\n",
    "    b1 = tf.Variable(tf.zeros([n_h1]))\n",
    "\n",
    "    Wout = init_weights((n_h1, n_cls))\n",
    "    bout = tf.Variable(tf.zeros([n_cls]))\n",
    "    \n",
    "    l1 = tf.matmul(data, W1) + b1\n",
    "    l1 = tf.nn.relu(l1)\n",
    "    \n",
    "    pred = tf.nn.softmax(tf.matmul(l1, Wout) + bout)\n",
    "    \n",
    "    return pred"
   ]
  },
  {
   "cell_type": "markdown",
   "metadata": {},
   "source": [
    "#### Parameters for the Training"
   ]
  },
  {
   "cell_type": "code",
   "execution_count": 292,
   "metadata": {
    "collapsed": true
   },
   "outputs": [],
   "source": [
    "batch_size = 200\n",
    "n_eps = 300\n",
    "disp_step = 10\n",
    "learning_rate = 0.004"
   ]
  },
  {
   "cell_type": "code",
   "execution_count": 293,
   "metadata": {
    "collapsed": true
   },
   "outputs": [],
   "source": [
    "def train_nn1(data):\n",
    "    pred = nn_model1(data)\n",
    "    cost = -tf.reduce_sum(y*tf.log(tf.clip_by_value(pred,1e-11,1.0)))\n",
    "    \n",
    "    optimizer = tf.train.AdamOptimizer(learning_rate).minimize(cost)\n",
    "    \n",
    "    # Test model\n",
    "    correct_prediction = tf.equal(tf.argmax(pred, 1), tf.argmax(y, 1))\n",
    "    # Calculate accuracy\n",
    "    accuracy = tf.reduce_mean(tf.cast(correct_prediction, tf.float32))\n",
    "    \n",
    "    epochs = n_eps\n",
    "    \n",
    "    with tf.Session() as sess:\n",
    "        tf.global_variables_initializer().run()\n",
    "        #prev_loss = None\n",
    "        \n",
    "        for epoch in range(epochs):\n",
    "            avg_cost = 0\n",
    "            total_batch = int(X_train2.shape[0] / batch_size)\n",
    "            \n",
    "            # Training\n",
    "            for i in range(total_batch):\n",
    "                xb = X_train2[i * batch_size : (i + 1) * batch_size]\n",
    "                yb = y_train[i * batch_size : (i + 1) * batch_size]\n",
    "                _, c = sess.run([optimizer, cost], feed_dict = {x: xb, y: yb})\n",
    "                avg_cost += c / total_batch\n",
    "            \n",
    "            if (epoch+1) % disp_step == 0:\n",
    "                print(\"Epoch:\", '%04d' % (epoch+1), \"cost=\", \"{:.9f}\".format(avg_cost))\n",
    "            if math.isnan(avg_cost):\n",
    "                break\n",
    "            #prev_loss = loss\n",
    "        print 'training finished!'\n",
    "        predictions = sess.run(pred, feed_dict = {x: X_test2})\n",
    "            \n",
    "        \n",
    "        print(\"accuarcy(train) =\",sess.run(accuracy, feed_dict={x:X_train2, y: y_train}))\n",
    "    return predictions\n",
    "    \n",
    "        #correct = tf.equal(tf.argmax(pred,1), tf.argmax(y,1))\n",
    "        #accuracy = tf.reduce_mean(tf.cast(correct, tf.float32))\n",
    "        #print(sess.run(accuracy, feed_dict = \\\n",
    "        #               {x: mnist.test.images, y: mnist.test.labels}))"
   ]
  },
  {
   "cell_type": "code",
   "execution_count": 294,
   "metadata": {
    "collapsed": false
   },
   "outputs": [
    {
     "name": "stdout",
     "output_type": "stream",
     "text": [
      "('Epoch:', '0010', 'cost=', '332.107147217')\n",
      "('Epoch:', '0020', 'cost=', '69.900189400')\n",
      "('Epoch:', '0030', 'cost=', '36.460299015')\n",
      "('Epoch:', '0040', 'cost=', '23.315602303')\n",
      "('Epoch:', '0050', 'cost=', '16.134310722')\n",
      "('Epoch:', '0060', 'cost=', '11.732723475')\n",
      "('Epoch:', '0070', 'cost=', '8.846622229')\n",
      "('Epoch:', '0080', 'cost=', '6.870529056')\n",
      "('Epoch:', '0090', 'cost=', '5.464790344')\n",
      "('Epoch:', '0100', 'cost=', '4.433487773')\n",
      "('Epoch:', '0110', 'cost=', '3.657755792')\n",
      "('Epoch:', '0120', 'cost=', '3.062565207')\n",
      "('Epoch:', '0130', 'cost=', '2.596814454')\n",
      "('Epoch:', '0140', 'cost=', '2.226011932')\n",
      "('Epoch:', '0150', 'cost=', '1.926656485')\n",
      "('Epoch:', '0160', 'cost=', '1.681969166')\n",
      "('Epoch:', '0170', 'cost=', '1.479950160')\n",
      "('Epoch:', '0180', 'cost=', '1.311297178')\n",
      "('Epoch:', '0190', 'cost=', '1.169109046')\n",
      "('Epoch:', '0200', 'cost=', '1.048261493')\n",
      "('Epoch:', '0210', 'cost=', '0.944760621')\n",
      "('Epoch:', '0220', 'cost=', '0.855433211')\n",
      "('Epoch:', '0230', 'cost=', '0.777839154')\n",
      "('Epoch:', '0240', 'cost=', '0.709984168')\n",
      "('Epoch:', '0250', 'cost=', '0.650401026')\n",
      "('Epoch:', '0260', 'cost=', '0.597743265')\n",
      "('Epoch:', '0270', 'cost=', '0.551026493')\n",
      "('Epoch:', '0280', 'cost=', '0.509411953')\n",
      "('Epoch:', '0290', 'cost=', '0.472204603')\n",
      "('Epoch:', '0300', 'cost=', '0.438756511')\n",
      "training finished!\n",
      "('accuarcy(train) =', 0.9039548)\n"
     ]
    }
   ],
   "source": [
    "pred1 = train_nn1(x)"
   ]
  },
  {
   "cell_type": "code",
   "execution_count": 295,
   "metadata": {
    "collapsed": false
   },
   "outputs": [
    {
     "data": {
      "image/png": "[encoded data removed]",
      "text/plain": [
       "<matplotlib.figure.Figure at 0x7f19045a7a10>"
      ]
     },
     "metadata": {},
     "output_type": "display_data"
    },
    {
     "name": "stdout",
     "output_type": "stream",
     "text": [
      "0.950775377165\n"
     ]
    }
   ],
   "source": [
    "Z=np.argmax(pred1,1)\n",
    "Z_out = Range_train[Z.astype(np.int32)]\n",
    "\n",
    "plt.plot(Z_out,\"o\",markersize=2,markeredgewidth=0.5,markeredgecolor='b',markerfacecolor='none')\n",
    "plt.plot(Y_test,'r',linewidth=1.0)\n",
    "\n",
    "plt.xlabel('Time [index]',fontsize=8)\n",
    "plt.ylabel('Range (m)',fontsize=8)\n",
    "plt.tick_params(axis='both', which='major', labelsize=8)\n",
    "plt.tick_params(axis='both', which='minor', labelsize=8)\n",
    "plt.title('Random Forest Classifier',fontsize=8)\n",
    "\n",
    "plt.show()\n",
    "print MAPE(Z_out, Y_test)"
   ]
  },
  {
   "cell_type": "code",
   "execution_count": 150,
   "metadata": {
    "collapsed": true
   },
   "outputs": [],
   "source": [
    "Z_out_9502 = Z_out"
   ]
  },
  {
   "cell_type": "code",
   "execution_count": 221,
   "metadata": {
    "collapsed": true
   },
   "outputs": [],
   "source": [
    "Z_out_5502 = Z_out"
   ]
  },
  {
   "cell_type": "code",
   "execution_count": 192,
   "metadata": {
    "collapsed": true
   },
   "outputs": [],
   "source": [
    "Z_out_102 = Z_out"
   ]
  },
  {
   "cell_type": "code",
   "execution_count": 112,
   "metadata": {
    "collapsed": true
   },
   "outputs": [],
   "source": [
    "Y_test_1 = Y_test"
   ]
  },
  {
   "cell_type": "code",
   "execution_count": 222,
   "metadata": {
    "collapsed": false
   },
   "outputs": [
    {
     "data": {
      "image/png": "[encoded data removed]",
      "text/plain": [
       "<matplotlib.figure.Figure at 0x7f1935884dd0>"
      ]
     },
     "metadata": {},
     "output_type": "display_data"
    }
   ],
   "source": [
    "plt.subplot(321)\n",
    "plt.plot(Z_out_950,\"o\",markersize=2,markeredgewidth=0.5,markeredgecolor='b',markerfacecolor='none')\n",
    "plt.plot(Y_test_1,'r',linewidth=1.0)\n",
    "\n",
    "plt.xlabel('Time [index]',fontsize=8)\n",
    "plt.ylabel('Range (m)',fontsize=8)\n",
    "plt.tick_params(axis='both', which='major', labelsize=8)\n",
    "plt.tick_params(axis='both', which='minor', labelsize=8)\n",
    "\n",
    "plt.subplot(323)\n",
    "plt.plot(Z_out_550,\"o\",markersize=2,markeredgewidth=0.5,markeredgecolor='b',markerfacecolor='none')\n",
    "plt.plot(Y_test_1,'r',linewidth=1.0)\n",
    "\n",
    "plt.xlabel('Time [index]',fontsize=8)\n",
    "plt.ylabel('Range (m)',fontsize=8)\n",
    "plt.tick_params(axis='both', which='major', labelsize=8)\n",
    "plt.tick_params(axis='both', which='minor', labelsize=8)\n",
    "\n",
    "plt.subplot(325)\n",
    "plt.plot(Z_out_10,\"o\",markersize=2,markeredgewidth=0.5,markeredgecolor='b',markerfacecolor='none')\n",
    "plt.plot(Y_test_1,'r',linewidth=1.0)\n",
    "\n",
    "plt.xlabel('Time [index]',fontsize=8)\n",
    "plt.ylabel('Range (m)',fontsize=8)\n",
    "plt.tick_params(axis='both', which='major', labelsize=8)\n",
    "plt.tick_params(axis='both', which='minor', labelsize=8)  \n",
    "\n",
    "# second datset\n",
    "  \n",
    "plt.subplot(322)\n",
    "plt.plot(Z_out_9502,\"o\",markersize=2,markeredgewidth=0.5,markeredgecolor='b',markerfacecolor='none')\n",
    "plt.plot(Y_test,'r',linewidth=1.0)\n",
    "\n",
    "plt.xlabel('Time [index]',fontsize=8)\n",
    "plt.ylabel('Range (m)',fontsize=8)\n",
    "plt.tick_params(axis='both', which='major', labelsize=8)\n",
    "plt.tick_params(axis='both', which='minor', labelsize=8)\n",
    "\n",
    "plt.subplot(324)\n",
    "plt.plot(Z_out_5502,\"o\",markersize=2,markeredgewidth=0.5,markeredgecolor='b',markerfacecolor='none')\n",
    "plt.plot(Y_test,'r',linewidth=1.0)\n",
    "\n",
    "plt.xlabel('Time [index]',fontsize=8)\n",
    "plt.ylabel('Range (m)',fontsize=8)\n",
    "plt.tick_params(axis='both', which='major', labelsize=8)\n",
    "plt.tick_params(axis='both', which='minor', labelsize=8)\n",
    "\n",
    "plt.subplot(326)\n",
    "plt.plot(Z_out_102,\"o\",markersize=2,markeredgewidth=0.5,markeredgecolor='b',markerfacecolor='none')\n",
    "plt.plot(Y_test,'r',linewidth=1.0)\n",
    "\n",
    "plt.xlabel('Time [index]',fontsize=8)\n",
    "plt.ylabel('Range (m)',fontsize=8)\n",
    "plt.tick_params(axis='both', which='major', labelsize=8)\n",
    "plt.tick_params(axis='both', which='minor', labelsize=8)\n",
    "\n",
    "plt.show()"
   ]
  },
  {
   "cell_type": "code",
   "execution_count": null,
   "metadata": {
    "collapsed": true
   },
   "outputs": [],
   "source": []
  }
 ],
 "metadata": {
  "anaconda-cloud": {},
  "kernelspec": {
   "display_name": "Python 2",
   "language": "python",
   "name": "python2"
  },
  "language_info": {
   "codemirror_mode": {
    "name": "ipython",
    "version": 2
   },
   "file_extension": ".py",
   "mimetype": "text/x-python",
   "name": "python",
   "nbconvert_exporter": "python",
   "pygments_lexer": "ipython2",
   "version": "2.7.13"
  }
 },
 "nbformat": 4,
 "nbformat_minor": 1
}
